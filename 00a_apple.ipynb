{
 "cells": [
  {
   "cell_type": "code",
   "execution_count": null,
   "metadata": {
    "hide_input": true
   },
   "outputs": [
    {
     "name": "stdout",
     "output_type": "stream",
     "text": [
      "Cells will be exported to nbdev_demo.apple,\n",
      "unless a different module is specified after an export flag: `%nbdev_export special.module`\n"
     ]
    }
   ],
   "source": [
    "from nbdev import *\n",
    "%nbdev_default_export apple"
   ]
  },
  {
   "cell_type": "markdown",
   "metadata": {},
   "source": [
    "# Apple\n",
    "\n",
    "> Apple model and functions to work with apples."
   ]
  },
  {
   "cell_type": "code",
   "execution_count": null,
   "metadata": {},
   "outputs": [],
   "source": [
    "%nbdev_export\n",
    "class Apple:\n",
    "    \"Represents an apple and things you can do with apples\"\n",
    "    def __init__(self,color,size,core):\n",
    "        \"Create a new apple with `color`, `size` and `core`\"\n",
    "    def bite(self):\n",
    "        \"Take a bite from the apple\""
   ]
  },
  {
   "cell_type": "code",
   "execution_count": null,
   "metadata": {},
   "outputs": [
    {
     "data": {
      "text/markdown": [
       "<h4 id=\"Apple.__init__\" class=\"doc_header\"><code>Apple.__init__</code><a href=\"__main__.py#L4\" class=\"source_link\" style=\"float:right\">[source]</a></h4>\n",
       "\n",
       "> <code>Apple.__init__</code>(**`color`**, **`size`**, **`core`**)\n",
       "\n",
       "Create a new apple with `color`, `size` and `core`"
      ],
      "text/plain": [
       "<IPython.core.display.Markdown object>"
      ]
     },
     "metadata": {},
     "output_type": "display_data"
    }
   ],
   "source": [
    "%nbdev_show_doc Apple.__init__"
   ]
  },
  {
   "cell_type": "markdown",
   "metadata": {},
   "source": [
    "Notice how \"core\" in the doc string doesn't get linked &uarr; - but `core` in this md does.\n",
    "\n",
    "## Extending \"not converting parameter names to links\" to markdown following a show_doc call\n",
    "\n",
    "### Pros\n",
    "\n",
    "If we talk about `core` in the md following the Apple class, I think it's more likely that we're talking about the core parameter than the core module.\n",
    "\n",
    "It's pretty confusing to hit a link that you think is talking about a param and be taken to docs for a different module - and it's quite common to mention params in md (e.g. [nbdev_test_nbs](https://nbdev.fast.ai/cli.html#nbdev_test_nbs) mentions the `fname` param).\n",
    "\n",
    "### Cons\n",
    "\n",
    "If you did want to link to the [core module](/nbdev_demo/text_core.html), you'd have to use a markdown link."
   ]
  },
  {
   "cell_type": "code",
   "execution_count": null,
   "metadata": {},
   "outputs": [
    {
     "name": "stdout",
     "output_type": "stream",
     "text": [
      "Converted 00_core.ipynb.\n",
      "Converted 00a_apple.ipynb.\n",
      "Converted 10_text_core.ipynb.\n",
      "Converted 10a_text_utils.ipynb.\n",
      "Converted index.ipynb.\n"
     ]
    }
   ],
   "source": [
    "%nbdev_hide\n",
    "from nbdev.export import notebook2script\n",
    "notebook2script()"
   ]
  }
 ],
 "metadata": {
  "kernelspec": {
   "display_name": "Python 3",
   "language": "python",
   "name": "python3"
  }
 },
 "nbformat": 4,
 "nbformat_minor": 2
}
