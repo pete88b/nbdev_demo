{
 "cells": [
  {
   "cell_type": "code",
   "execution_count": null,
   "metadata": {
    "hide_input": true
   },
   "outputs": [
    {
     "name": "stdout",
     "output_type": "stream",
     "text": [
      "Cells will be exported to nbdev_demo.text.utils,\n",
      "unless a different module is specified after an export flag: `%nbdev_export special.module`\n"
     ]
    }
   ],
   "source": [
    "from nbdev import *\n",
    "%nbdev_default_export text.utils"
   ]
  },
  {
   "cell_type": "code",
   "execution_count": null,
   "metadata": {},
   "outputs": [],
   "source": [
    "%nbdev_export\n",
    "from nbdev_demo.text.core import *"
   ]
  },
  {
   "cell_type": "markdown",
   "metadata": {},
   "source": [
    "# Text Utils\n",
    "\n",
    "> Text utilities."
   ]
  },
  {
   "cell_type": "markdown",
   "metadata": {},
   "source": [
    "For this project, a map of module to notebook names might look like:\n",
    "\n",
    "```python\n",
    "module_index = {\"core\": \"00_core.ipynb\",\n",
    "                \"apple\": \"00a_apple.ipynb\",\n",
    "                \"text.core\": \"10_text_core.ipynb\",\n",
    "                \"text.util\": \"10a_text_utils.ipynb\"}\n",
    "```\n",
    "\n",
    "## Why write a map of module to notebook names to `_nbdev.py`?\n",
    "\n",
    "### So doc_link doesn't have to assume these names correspond\n",
    "\n",
    "We can't doc link to our `text.core` module because we've used a notebook name that does not correspond to the module name:\n",
    "\n",
    "We have \"10_text_core.ipynb\"\n",
    "- `doc_link` wants to map \"text.core\" to \"text.core.html\" but\n",
    "- `_nb2htmlfname` maps \"10_text_core.ipynb\" to \"text_core.html\"\n",
    "\n",
    "nbdev allows module names to be different to notebook names via `%nbdev_default_export` but ... `doc_link` forces them to be the same (if you want backtick links to your modules).\n",
    "\n",
    "Notice how the link to `core_text_fn` finds it's way to \"text_core.html\" - because it uses `_nbdev#index` to map function names to notebook names.\n",
    "\n",
    "### So you don't need your project to be in `sys.path`\n",
    "\n",
    "When `doc_link` checks `is_lib_module` we:\n",
    "\n",
    "`importlib.import_module(f'{Config().lib_name}.{name}')`\n",
    "\n",
    "Building docs for this new project in a conda env means no module links are created - I'm not sure why `importlib.import_module` fails when `show_doc` still finds functions etc to display - but ...\n",
    "\n",
    "`pip install -e .` adds the project to `sys.path` and `is_lib_module` can import them.\n",
    "\n",
    "I'd like to fix this by changing `is_lib_module` to use `module_index` (or `_nbdev#modules` if you don't want to introduce `module_index`)."
   ]
  },
  {
   "cell_type": "code",
   "execution_count": null,
   "metadata": {},
   "outputs": [],
   "source": [
    "%nbdev_export\n",
    "def text_util_fn(): \n",
    "    \"Adds some behaviour to `core_text_fn`\"\n",
    "    return core_text_fn()"
   ]
  },
  {
   "cell_type": "code",
   "execution_count": null,
   "metadata": {},
   "outputs": [
    {
     "name": "stdout",
     "output_type": "stream",
     "text": [
      "Converted 00_core.ipynb.\n",
      "Converted 00a_apple.ipynb.\n",
      "Converted 10_text_core.ipynb.\n",
      "Converted 10a_text_utils.ipynb.\n",
      "Converted index.ipynb.\n"
     ]
    }
   ],
   "source": [
    "%nbdev_hide\n",
    "from nbdev.export import notebook2script\n",
    "notebook2script()"
   ]
  }
 ],
 "metadata": {
  "kernelspec": {
   "display_name": "Python 3",
   "language": "python",
   "name": "python3"
  }
 },
 "nbformat": 4,
 "nbformat_minor": 2
}
